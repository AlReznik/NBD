{
 "cells": [
  {
   "cell_type": "markdown",
   "metadata": {},
   "source": [
    "## Cwiczenie 6\n",
    "Napisz program, który wrzuci do bazy dokument, pobierze go i wypisze, zmodyfikuje go, \n",
    "następnie pobierze i wypisze, a na końcu usunie go i spróbuje pobrać z bazy."
   ]
  },
  {
   "cell_type": "code",
   "execution_count": 56,
   "metadata": {},
   "outputs": [],
   "source": [
    "import requests\n",
    "import json"
   ]
  },
  {
   "cell_type": "markdown",
   "metadata": {},
   "source": [
    "### Program pobiera aktalne kursy walut za pomoc API Narodowego Banku Polskiego, wybiera potrzebne waluty i zapisuje do bazy danych Riak"
   ]
  },
  {
   "cell_type": "code",
   "execution_count": 57,
   "metadata": {},
   "outputs": [
    {
     "data": {
      "text/plain": [
       "'[{\"table\":\"A\",\"no\":\"121/A/NBP/2022\",\"effectiveDate\":\"2022-06-24\",\"rates\":[{\"currency\":\"bat (Tajlandia)\",\"code\":\"THB\",\"mid\":0.1258},{\"currency\":\"dolar amerykański\",\"code\":\"USD\",\"mid\":4.4656},{\"currency\":\"dolar australijski\",\"code\":\"AUD\",\"mid\":3.0842},{\"currency\":\"dolar Hongkongu\",\"code\":\"HKD\",\"mid\":0.5690},{\"currency\":\"dolar kanadyjski\",\"code\":\"CAD\",\"mid\":3.4439},{\"currency\":\"dolar nowozelandzki\",\"code\":\"NZD\",\"mid\":2.8133},{\"currency\":\"dolar singapurski\",\"code\":\"SGD\",\"mid\":3.2175},{\"currency\":\"euro\",\"code\":\"EUR\",\"mid\":4.7094},{\"currency\":\"forint (Węgry)\",\"code\":\"HUF\",\"mid\":0.011749},{\"currency\":\"frank szwajcarski\",\"code\":\"CHF\",\"mid\":4.6538},{\"currency\":\"funt szterling\",\"code\":\"GBP\",\"mid\":5.4831},{\"currency\":\"hrywna (Ukraina)\",\"code\":\"UAH\",\"mid\":0.1467},{\"currency\":\"jen (Japonia)\",\"code\":\"JPY\",\"mid\":0.033103},{\"currency\":\"korona czeska\",\"code\":\"CZK\",\"mid\":0.1903},{\"currency\":\"korona duńska\",\"code\":\"DKK\",\"mid\":0.6330},{\"currency\":\"korona islandzka\",\"code\":\"ISK\",\"mid\":0.033711},{\"currency\":\"korona norweska\",\"code\":\"NOK\",\"mid\":0.4497},{\"currency\":\"korona szwedzka\",\"code\":\"SEK\",\"mid\":0.4404},{\"currency\":\"kuna (Chorwacja)\",\"code\":\"HRK\",\"mid\":0.6254},{\"currency\":\"lej rumuński\",\"code\":\"RON\",\"mid\":0.9519},{\"currency\":\"lew (Bułgaria)\",\"code\":\"BGN\",\"mid\":2.4079},{\"currency\":\"lira turecka\",\"code\":\"TRY\",\"mid\":0.2570},{\"currency\":\"nowy izraelski szekel\",\"code\":\"ILS\",\"mid\":1.2982},{\"currency\":\"peso chilijskie\",\"code\":\"CLP\",\"mid\":0.004941},{\"currency\":\"peso filipińskie\",\"code\":\"PHP\",\"mid\":0.0814},{\"currency\":\"peso meksykańskie\",\"code\":\"MXN\",\"mid\":0.2239},{\"currency\":\"rand (Republika Południowej Afryki)\",\"code\":\"ZAR\",\"mid\":0.2807},{\"currency\":\"real (Brazylia)\",\"code\":\"BRL\",\"mid\":0.8525},{\"currency\":\"ringgit (Malezja)\",\"code\":\"MYR\",\"mid\":1.0141},{\"currency\":\"rupia indonezyjska\",\"code\":\"IDR\",\"mid\":0.00030082},{\"currency\":\"rupia indyjska\",\"code\":\"INR\",\"mid\":0.057044},{\"currency\":\"won południowokoreański\",\"code\":\"KRW\",\"mid\":0.00345},{\"currency\":\"yuan renminbi (Chiny)\",\"code\":\"CNY\",\"mid\":0.6671},{\"currency\":\"SDR (MFW)\",\"code\":\"XDR\",\"mid\":5.9845}]}]'"
      ]
     },
     "execution_count": 57,
     "metadata": {},
     "output_type": "execute_result"
    }
   ],
   "source": [
    "nbp_url = 'http://api.nbp.pl/api/exchangerates/tables/A/'\n",
    "response = requests.get(nbp_url)\n",
    "response.content.decode()"
   ]
  },
  {
   "cell_type": "code",
   "execution_count": 58,
   "metadata": {},
   "outputs": [],
   "source": [
    "date = response.json()[0]['effectiveDate']\n",
    "rates = response.json()[0]['rates']\n",
    "riak_currencies = ['EUR', 'USD', 'GBP']\n",
    "riak_rates = {}\n",
    "for cur in rates:\n",
    "    if cur['code'] in riak_currencies:\n",
    "        riak_rates[cur['code']] = cur['mid']\n",
    "        \n",
    "riak_url = 'http://3.88.140.204:8098/riak/rates/'+ date"
   ]
  },
  {
   "cell_type": "code",
   "execution_count": 59,
   "metadata": {},
   "outputs": [
    {
     "name": "stdout",
     "output_type": "stream",
     "text": [
      "204\n",
      "{'Vary': 'Accept-Encoding', 'Server': 'MochiWeb/1.1 WebMachine/1.10.6 (no drinks)', 'Date': 'Sun, 26 Jun 2022 13:45:43 GMT', 'Content-Type': 'application/json', 'Content-Length': '0', 'Content-Encoding': 'gzip'}\n"
     ]
    }
   ],
   "source": [
    "headers = {'Content-Type': 'application/json'}\n",
    "response = requests.put(riak_url, headers=headers, data=json.dumps(riak_rates))\n",
    "print(response.status_code)\n",
    "print(response.headers)"
   ]
  },
  {
   "cell_type": "code",
   "execution_count": 60,
   "metadata": {},
   "outputs": [
    {
     "name": "stdout",
     "output_type": "stream",
     "text": [
      "200\n",
      "{'X-Riak-Vclock': 'a85hYGBgzGDKBVIcBXm1//YGXViTwZTIlMfKwH5f5w5fFgA=', 'Vary': 'Accept-Encoding', 'Server': 'MochiWeb/1.1 WebMachine/1.10.6 (no drinks)', 'Link': '</riak/rates>; rel=\"up\"', 'Last-Modified': 'Sun, 26 Jun 2022 13:45:43 GMT', 'ETag': '\"74FNIJKZ2FmHMXWbJE1N7X\"', 'Date': 'Sun, 26 Jun 2022 13:45:44 GMT', 'Content-Type': 'application/json', 'Content-Length': '59', 'Content-Encoding': 'gzip'}\n",
      "{'USD': 4.4656, 'EUR': 4.7094, 'GBP': 5.4831}\n"
     ]
    }
   ],
   "source": [
    "response = requests.get(riak_url)\n",
    "print(response.status_code)\n",
    "print(response.headers)\n",
    "print(response.json())"
   ]
  },
  {
   "cell_type": "code",
   "execution_count": 61,
   "metadata": {},
   "outputs": [
    {
     "name": "stdout",
     "output_type": "stream",
     "text": [
      "204\n",
      "{'Vary': 'Accept-Encoding', 'Server': 'MochiWeb/1.1 WebMachine/1.10.6 (no drinks)', 'Date': 'Sun, 26 Jun 2022 13:45:44 GMT', 'Content-Type': 'application/json', 'Content-Length': '0', 'Content-Encoding': 'gzip'}\n"
     ]
    }
   ],
   "source": [
    "response = requests.delete(riak_url)\n",
    "print(response.status_code)\n",
    "print(response.headers)"
   ]
  }
 ],
 "metadata": {
  "kernelspec": {
   "display_name": "Python 3.9.6 64-bit",
   "language": "python",
   "name": "python3"
  },
  "language_info": {
   "codemirror_mode": {
    "name": "ipython",
    "version": 3
   },
   "file_extension": ".py",
   "mimetype": "text/x-python",
   "name": "python",
   "nbconvert_exporter": "python",
   "pygments_lexer": "ipython3",
   "version": "3.9.6"
  },
  "orig_nbformat": 4,
  "vscode": {
   "interpreter": {
    "hash": "bd236a709519b3ae3b820ac756eadb1966d4cb8f661a5378fefc33f5d1fc84f1"
   }
  }
 },
 "nbformat": 4,
 "nbformat_minor": 2
}
